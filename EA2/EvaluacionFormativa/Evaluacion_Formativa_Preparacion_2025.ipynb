{
  "cells": [
    {
      "cell_type": "markdown",
      "id": "b5287519",
      "metadata": {
        "id": "b5287519"
      },
      "source": [
        "\n",
        "# **Evaluación Formativa: Preparación de Datos - DUOC FM**\n",
        "\n",
        "## **¿Qué vas a lograr con este desafío?**\n",
        "Vas a enfrentarte a un dataset real, sin procesar, y tu misión será transformarlo en un conjunto de datos limpio, coherente, enriquecido y listo para entrenar un modelo de Machine Learning.\n",
        "\n",
        "**Este desafío no es solo técnico, sino reflexivo.**  \n",
        "Debes cuestionar cada decisión, argumentar con fundamentos y aprovechar herramientas como ChatGPT *sin dejar que piense por ti*.\n",
        "\n",
        "---\n",
        "\n",
        "## **Indicaciones generales**\n",
        "- **No se entregan soluciones ni funciones listas**, salvo el código de apertura del dataset.\n",
        "- Cada sección contiene preguntas, pasos sugeridos y espacio para justificar.\n",
        "- Puedes consultar fuentes externas, documentación y ChatGPT como apoyo, pero **tu razonamiento debe quedar registrado**.\n",
        "\n",
        "---\n",
        "\n",
        "## **Carga del dataset**\n",
        "\n",
        "Usa el siguiente código para cargar el dataset base. Siéntete libre de cambiarlo por otra versión del mismo (año, fuente, formato) si quieres ampliar el desafío.\n",
        "\n",
        "```python\n",
        "import pandas as pd\n",
        "\n",
        "url = \"tripdata_2024.parquet\"\n",
        "df = pd.read_parquet(url)\n",
        "df.head()\n",
        "```\n",
        "\n",
        "\n",
        "\n",
        "Has recibido un conjunto de datos reales con registros de viajes en taxi de la ciudad de Nueva York. Este dataset no está limpio ni documentado de forma completa. Además, algunos datos están mal tipificados y no todos los códigos están explicados dentro del archivo.\n",
        "\n",
        "Tu tarea es actuar como analista de datos, reconstruyendo no solo el contenido y estructura del dataset, sino también su significado. Deberás entregar un diccionario de datos completo, preciso y justificado, como si fueras parte de un equipo técnico que necesita dejar este recurso listo para futuros análisis y modelamientos.\n",
        "\n",
        "\n",
        "\n",
        "\n",
        "\n",
        "\n",
        "\n",
        "**Pregunta inicial:**  \n",
        "> ¿Qué ves que te llame la atención? ¿Qué crees que no está bien desde ya?\n"
      ]
    },
    {
      "cell_type": "markdown",
      "id": "3e61a051",
      "metadata": {
        "id": "3e61a051"
      },
      "source": [
        "\n",
        "## **1. Diagnóstico y análisis exploratorio**\n",
        "\n",
        "Antes de transformar, primero observa.\n",
        "\n",
        "### Actividad:\n",
        "- Explora la estructura del DataFrame\n",
        "- Identifica variables numéricas, categóricas y temporales\n",
        "- Revisa si hay datos faltantes o inconsistencias\n",
        "\n",
        "### Preguntas para ti:\n",
        "- ¿Qué columnas parecen más útiles? ¿Cuáles menos?\n",
        "- ¿Dónde ves valores sospechosos?\n",
        "- ¿Qué tipo de errores pueden afectar el análisis?\n",
        "- ¿Cómo podrías detectar outliers sin saber sus rangos válidos?\n",
        "\n",
        "*(Puedes usar métodos como `.info()`, `.describe()`, `.value_counts()`, `.isnull().sum()` y visualizaciones simples.)*\n",
        "\n",
        "## Propuesta opcional:\n",
        "*Usa histplot, boxplot, countplot o pairplot para observar la forma, dispersión y rarezas.*\n",
        "\n",
        "## Razón pedagógica:\n",
        "*A veces los outliers, valores nulos o codificaciones erradas son más visibles en una gráfica que en un .describe().*\n"
      ]
    },
    {
      "cell_type": "code",
      "source": [
        "### Comencemos :)"
      ],
      "metadata": {
        "id": "zStL5bFkSr5U"
      },
      "id": "zStL5bFkSr5U",
      "execution_count": null,
      "outputs": []
    },
    {
      "cell_type": "markdown",
      "id": "a1ef24bb",
      "metadata": {
        "id": "a1ef24bb"
      },
      "source": [
        "\n",
        "## **2. Decisiones de imputación**\n",
        "\n",
        "No basta con rellenar: debes tomar decisiones conscientes.\n",
        "\n",
        "### Actividad:\n",
        "- Detecta columnas con valores nulos o atípicos.\n",
        "- Aplica al menos 2 métodos de imputación distintos y compara sus efectos.\n",
        "- Reflexiona sobre lo que cada método está asumiendo sobre tus datos.\n",
        "\n",
        "### Preguntas para ti:\n",
        "- ¿Qué pierde el dataset al imputar?\n",
        "- ¿Qué variable puede distorsionarse más por un mal método?\n",
        "- ¿Cuándo vale más eliminar una fila que rellenarla?\n",
        "\n",
        "*(Recuerda: imputar es una reconstrucción de la realidad. ¿Qué realidad estás creando?)*\n"
      ]
    },
    {
      "cell_type": "code",
      "source": [
        "### Comencemos :)"
      ],
      "metadata": {
        "id": "tv_Rh6VXTk5h"
      },
      "id": "tv_Rh6VXTk5h",
      "execution_count": null,
      "outputs": []
    },
    {
      "cell_type": "markdown",
      "id": "8626c14a",
      "metadata": {
        "id": "8626c14a"
      },
      "source": [
        "\n",
        "## **3. Codificación de variables categóricas**\n",
        "\n",
        "### Actividad:\n",
        "- Identifica al menos 2 columnas categóricas.\n",
        "- Aplica dos métodos diferentes de codificación (Label, One-Hot, Binary, etc.).\n",
        "- Justifica cuál elegirías y por qué.\n",
        "\n",
        "### Preguntas para ti:\n",
        "- ¿Tu codificación introduce un orden que no existe?\n",
        "- ¿Qué tipo de modelo usarás y cómo influye eso en tu decisión?\n",
        "- ¿Estás usando codificación “por costumbre” o por análisis?\n",
        "\n",
        "*(Puedes usar la documentación de `pandas.get_dummies()` o `sklearn.preprocessing`.)*\n"
      ]
    },
    {
      "cell_type": "code",
      "source": [
        "### Comencemos :)"
      ],
      "metadata": {
        "id": "DoDGv-AVTltg"
      },
      "id": "DoDGv-AVTltg",
      "execution_count": null,
      "outputs": []
    },
    {
      "cell_type": "markdown",
      "id": "464341c2",
      "metadata": {
        "id": "464341c2"
      },
      "source": [
        "\n",
        "## **4. Normalización y escalado**\n",
        "\n",
        "### Actividad:\n",
        "- Elige al menos 2 variables numéricas.\n",
        "- Prueba con distintos escaladores y visualiza cómo cambian las distribuciones.\n",
        "- Evalúa si eso es necesario para el tipo de modelo que planeas usar.\n",
        "\n",
        "### Preguntas para ti:\n",
        "- ¿Qué escalador cambia menos la distribución?\n",
        "- ¿Qué pasa si escalas variables con muchos outliers?\n",
        "- ¿Es necesario escalar si usarás un modelo basado en árboles?\n",
        "\n",
        "*(Puedes comparar StandardScaler, MinMaxScaler, RobustScaler, etc.)*\n",
        "\n",
        "## Propuesta opcional:\n",
        "*Mostrar un antes y después con histogramas o boxplots (sns.histplot, sns.boxplot) para cada escalador.*\n",
        "\n",
        "## Razón pedagógica:\n",
        "*Ayuda a entender cómo afecta cada método la forma de los datos.*"
      ]
    },
    {
      "cell_type": "code",
      "source": [
        "### Comencemos :)"
      ],
      "metadata": {
        "id": "brvmR1PATHE4"
      },
      "id": "brvmR1PATHE4",
      "execution_count": null,
      "outputs": []
    },
    {
      "cell_type": "markdown",
      "id": "13b3d7cb",
      "metadata": {
        "id": "13b3d7cb"
      },
      "source": [
        "\n",
        "## **5. Creación de nuevas variables**\n",
        "\n",
        "### Actividad:\n",
        "- Crea al menos 3 variables nuevas usando combinaciones, fechas, ubicaciones u otras fuentes externas. (Debes usar almenos una fuente externa)\n",
        "- Evalúa si aportan valor predictivo real o si solo aumentan el ruido.\n",
        "\n",
        "### Preguntas para ti:\n",
        "- ¿Tu variable agrega información no contenida en las demás?\n",
        "- ¿Se puede medir su aporte al modelo?\n",
        "- ¿Es fácil de explicar para alguien que no sabe de datos?\n",
        "\n",
        "### Propuesta opcional:\n",
        "*Comparar visualmente cómo se distribuyen las nuevas variables o si ayudan a separar clases (con scatterplots, heatmaps, etc.).*\n",
        "\n",
        "### Razón pedagógica:\n",
        "* Las nuevas variables no deben \"verse bonitas\", sino ser útiles o interpretables.*"
      ]
    },
    {
      "cell_type": "code",
      "source": [
        "### Comencemos :)"
      ],
      "metadata": {
        "id": "TOUOiyPTTmoI"
      },
      "id": "TOUOiyPTTmoI",
      "execution_count": null,
      "outputs": []
    },
    {
      "cell_type": "markdown",
      "id": "6bcebf2a",
      "metadata": {
        "id": "6bcebf2a"
      },
      "source": [
        "\n",
        "## **6. Análisis descriptivo final**\n",
        "\n",
        "### Actividad:\n",
        "- Vuelve a hacer el análisis exploratorio del inicio (`describe`, `info`, visualizaciones).\n",
        "- Compara contra la versión original del dataset.\n",
        "\n",
        "### Preguntas para ti:\n",
        "- ¿El dataset ahora es más claro, más útil, más balanceado?\n",
        "- ¿Qué variable fue más transformada? ¿Cuál mantuviste intacta, y por qué?\n"
      ]
    },
    {
      "cell_type": "code",
      "source": [
        "### Comencemos :)"
      ],
      "metadata": {
        "id": "21daS3pCTm9p"
      },
      "id": "21daS3pCTm9p",
      "execution_count": null,
      "outputs": []
    },
    {
      "cell_type": "markdown",
      "id": "b66441c0",
      "metadata": {
        "id": "b66441c0"
      },
      "source": [
        "\n",
        "## **7. Revisión cruzada con IA**\n",
        "\n",
        "### Actividad:\n",
        "- Copia todo tu pipeline (en código o en texto) y consúltalo con ChatGPT.\n",
        "- Analiza las sugerencias que te entrega.\n",
        "\n",
        "### Preguntas para ti:\n",
        "- ¿En qué coincides y en qué discrepas?\n",
        "- ¿Qué harías distinto luego de leer sus observaciones?\n",
        "- ¿Te diste cuenta de algún sesgo o error no detectado?\n",
        "\n",
        "*(Esta etapa es clave: pensar con la IA, no dejar que piense por ti.)*\n"
      ]
    },
    {
      "cell_type": "code",
      "source": [
        "### Comencemos :)"
      ],
      "metadata": {
        "id": "ABIdjhrMTnjY"
      },
      "id": "ABIdjhrMTnjY",
      "execution_count": null,
      "outputs": []
    },
    {
      "cell_type": "markdown",
      "source": [],
      "metadata": {
        "id": "He1uT1HjTXpB"
      },
      "id": "He1uT1HjTXpB"
    },
    {
      "cell_type": "markdown",
      "id": "86cfde09",
      "metadata": {
        "id": "86cfde09"
      },
      "source": [
        "\n",
        "## **8. Dataset final listo para modelar**\n",
        "\n",
        "Tu DataFrame limpio y transformado debe quedar como `df_final`.\n",
        "\n",
        "Este dataset debe:\n",
        "- Estar libre de nulos o incoherencias\n",
        "- Tener variables bien codificadas y/o escaladas\n",
        "- Tener variables nuevas justificadas\n",
        "- Estar alineado con el problema predictivo que elegiste\n",
        "- Debe tener un diccionario en un archivo PDF que contenga la conversión y su descripción de columnas y variables.\n",
        "\n",
        "Puedes guardar tu resultado con:\n",
        "\n",
        "```python\n",
        "df_final.to_csv(\"dataset_preparado.csv\", index=False)\n",
        "```\n"
      ]
    }
  ],
  "metadata": {
    "colab": {
      "provenance": []
    },
    "language_info": {
      "name": "python"
    },
    "kernelspec": {
      "name": "python3",
      "display_name": "Python 3"
    }
  },
  "nbformat": 4,
  "nbformat_minor": 5
}