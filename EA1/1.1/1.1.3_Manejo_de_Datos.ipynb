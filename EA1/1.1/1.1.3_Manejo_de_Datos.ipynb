{
  "nbformat": 4,
  "nbformat_minor": 0,
  "metadata": {
    "language_info": {
      "codemirror_mode": {
        "name": "ipython",
        "version": 3
      },
      "file_extension": ".py",
      "mimetype": "text/x-python",
      "name": "python",
      "nbconvert_exporter": "python",
      "pygments_lexer": "ipython3",
      "version": "3.8.3-final"
    },
    "orig_nbformat": 2,
    "kernelspec": {
      "name": "python3",
      "display_name": "Python 3.8.3 64-bit (conda)",
      "metadata": {
        "interpreter": {
          "hash": "52c2f1918d8192804fa6378b1e247a649aaefc0f0ce60a6c158178526a03ff09"
        }
      }
    },
    "colab": {
      "provenance": [],
      "collapsed_sections": []
    }
  },
  "cells": [
    {
      "cell_type": "markdown",
      "metadata": {
        "id": "IT74zzI02hHz"
      },
      "source": [
        "# Introducción \n",
        "Para desarrollar tu primer laboratorio tendrás que cargar algunas herramientas básicas que te permitirán trabajar con los datos y hacer tus primeros análisis. \n",
        "\n",
        "Las actividades que desarrollaremos en este laboratorio son las siguientes: \n",
        "\n",
        "- Cargar un archivo con datos en tu entorno de trabajo \n",
        "- Exploración de datos. \n",
        "\n",
        "¡Empezamos! \n",
        "## Importar las librerías \n",
        "Antes de empezar vamos a importar las siguientes librerías: \n",
        "\n",
        "- Pandas \n",
        "- Numpy \n",
        "- Matplotlib"
      ]
    },
    {
      "cell_type": "code",
      "metadata": {
        "id": "Ze4DFeZF2hH3"
      },
      "source": [
        "# importa las librerías a nuestro entorno de trabajo\n",
        "\n",
        "import numpy as np # Programación vectorial\n",
        "import matplotlib.pyplot as plt # Visualización\n",
        "import pandas as pd # Estructura y manipulación de datos"
      ],
      "execution_count": 2,
      "outputs": []
    },
    {
      "cell_type": "markdown",
      "metadata": {
        "id": "0qUUEVRk2hH7"
      },
      "source": [
        "Basta con importar una vez las librerías a nuestro entorno. Si al momento de ejecutar el código aparece un error, considera lo siguiente: \n",
        "\n",
        "1. Esta bien escrito el comando\n",
        "2. Tienes instalada la librería en tu entorno local (En caso de que no estés usando Colab)\n",
        "\n",
        "Una de las habilidades básicas que debes aprender es corregir errores y buscar la documentación para dar solución a un problema."
      ]
    },
    {
      "cell_type": "markdown",
      "metadata": {
        "id": "aaqk4TUL2hH8"
      },
      "source": [
        "## Cargar un archivo de datos\n",
        "\n",
        "Hay varias maneras de cargar un archivo de datos en nuestro entorno. El archivo lo podemos llamar desde una URL o tener guardado en nuestra computadora.\n",
        "\n",
        "Si queremos cargar un archivo que desde una URL ejecutamos el siguiente comando"
      ]
    },
    {
      "cell_type": "code",
      "metadata": {
        "id": "O0aAubDv2hH8"
      },
      "source": [
        "url = 'https://raw.githubusercontent.com/lorey/list-of-countries/master/csv/countries.csv'\n",
        "df = pd.read_csv(url, sep=\";\")"
      ],
      "execution_count": 3,
      "outputs": []
    },
    {
      "cell_type": "markdown",
      "metadata": {
        "id": "mcj-xj_g2hH_"
      },
      "source": [
        "En la celda anterior se ejecutan dos accciones:\n",
        " \n",
        "1. Se guarda el archivo csv que tiene los datos en la variable \"url\"\n",
        "2. Se crea una nueva variable de tipo (*dataframe de pandas*) con los datos del archivo importado. La separación de los datos se realiza a través \";\" "
      ]
    },
    {
      "cell_type": "markdown",
      "metadata": {
        "id": "vbmcnUYHWrlc"
      },
      "source": [
        "En caso de que quieras subir un archivo local tendrás que ejecutar lo siguiente:"
      ]
    },
    {
      "cell_type": "code",
      "metadata": {
        "id": "8fn8doQ7Wq9u"
      },
      "source": [
        "from google.colab import files\n",
        "uploaded = files.upload()"
      ],
      "execution_count": null,
      "outputs": []
    },
    {
      "cell_type": "markdown",
      "metadata": {
        "id": "CqLp0xnGXGyD"
      },
      "source": [
        "Una vez que tengas el archivo cargado podrás crear un dataframe con Pandas para empezar con tu análisis. "
      ]
    },
    {
      "cell_type": "markdown",
      "metadata": {
        "id": "nOsqaDpPZOsW"
      },
      "source": [
        "Una tercera forma es montar tu unidad de Google Drive en tu entorno de trabajo. Tendrás que dar permiso para que Colab pueda acceder a tu unidad de almacenamiento de Drive.\n",
        "\n",
        "Debes ejecutar los siguientes comandos en una celda de código\n",
        "\n",
        "\n",
        "```\n",
        "from google.colab import drive\n",
        "drive.mount('/content/drive')\n",
        "```\n",
        "\n"
      ]
    },
    {
      "cell_type": "markdown",
      "metadata": {
        "id": "OC2B8QmZ2hIA"
      },
      "source": [
        "### Explorando el archivo con los datos\n",
        "Hay varias formas de explorar un archivo. Una de las más comunes es revisando las primeras filas. \n",
        "Por ejemplo, para mirar las primeras cincoo filas del archivo guardado en la variable \"df\" tenemos que ejecutar lo siguiente: \n"
      ]
    },
    {
      "cell_type": "code",
      "metadata": {
        "id": "Cqjr76w52hIA"
      },
      "source": [
        "df.head(5)"
      ],
      "execution_count": null,
      "outputs": []
    },
    {
      "cell_type": "markdown",
      "source": [
        "# Exploración de Datos"
      ],
      "metadata": {
        "id": "ULMAaONdgvJ_"
      }
    },
    {
      "cell_type": "markdown",
      "source": [
        "Carga el archivo TITANIC:CSV desde tu disco duro."
      ],
      "metadata": {
        "id": "Eb2rLCSAg3pe"
      }
    },
    {
      "cell_type": "code",
      "source": [
        "from google.colab import files\n",
        "uploaded = files.upload()\n",
        "for fn in uploaded.keys():\n",
        "    name=fn\n",
        "titanic = pd.read_csv(name, sep=\",\")\n",
        "#titanic = pd.read_csv(archivo, sep=\";\") # Importamos un CSV y Pandas nos retorna un pd.DataFrame"
      ],
      "metadata": {
        "id": "pW1ta0iUmjDi"
      },
      "execution_count": null,
      "outputs": []
    },
    {
      "cell_type": "markdown",
      "source": [
        "Veamos un análisis rápido del DATAFRAME."
      ],
      "metadata": {
        "id": "cBgpXUe6hWdn"
      }
    },
    {
      "cell_type": "code",
      "source": [
        "titanic.head() # Con el método pd.DataFrame.head() podemos explorar las primeras filas de un pd.DataFrame"
      ],
      "metadata": {
        "id": "VEYB4nJHhl2G"
      },
      "execution_count": null,
      "outputs": []
    },
    {
      "cell_type": "code",
      "source": [
        "titanic.tail() # Con el método pd.DataFrame.tail() podemos explorar las últimas filas de un pd.DataFrame"
      ],
      "metadata": {
        "id": "ys-cTsiRhtRp"
      },
      "execution_count": null,
      "outputs": []
    },
    {
      "cell_type": "code",
      "source": [
        "titanic.sample() # Con el método pd.DataFrame.tail() podemos explorar una fila al azar de un pd.DataFrame"
      ],
      "metadata": {
        "id": "lnW4BESVhuJc"
      },
      "execution_count": null,
      "outputs": []
    },
    {
      "cell_type": "markdown",
      "source": [
        "En Pandas también podemos acceder a columnas específicas de nuestro conjunto de datos, pero en el caso de Pandas, podemos acceder facilmente mediante el nombre de la columna"
      ],
      "metadata": {
        "id": "U7_K7Cz4h5_4"
      }
    },
    {
      "cell_type": "code",
      "source": [
        "titanic.Name # Extraemos la columna Name  Pandas retorna un pd.Series"
      ],
      "metadata": {
        "id": "2YMiS4dziAjv"
      },
      "execution_count": null,
      "outputs": []
    },
    {
      "cell_type": "code",
      "source": [
        "titanic[\"Age\"] # Otra sintaxis para extraer una columna"
      ],
      "metadata": {
        "id": "R1bOTOOqiEN_"
      },
      "execution_count": null,
      "outputs": []
    },
    {
      "cell_type": "code",
      "source": [
        "titanic[[\"Sex\",\"Pclass\"]] # Podemos también extraer una lista de columnas"
      ],
      "metadata": {
        "id": "t5fbdChviG-Q"
      },
      "execution_count": null,
      "outputs": []
    },
    {
      "cell_type": "markdown",
      "source": [
        "Para continuar con la exploración de nuestros datos, el método `pd.Series.describe()` nos devuelve una serie de descriptores de la columna."
      ],
      "metadata": {
        "id": "dyWQkSQ6iLqC"
      }
    },
    {
      "cell_type": "code",
      "source": [
        "titanic.Age.describe()"
      ],
      "metadata": {
        "id": "MyFSS5Z1iPDC"
      },
      "execution_count": null,
      "outputs": []
    },
    {
      "cell_type": "code",
      "source": [
        "titanic.Sex.describe()"
      ],
      "metadata": {
        "id": "TkVTOqvdiPxr"
      },
      "execution_count": null,
      "outputs": []
    },
    {
      "cell_type": "markdown",
      "source": [
        "El método `pd.Series.value_counts()` nos permite conocer la distribución de una columna de valores discretos."
      ],
      "metadata": {
        "id": "IzVV-tF5iWkz"
      }
    },
    {
      "cell_type": "code",
      "source": [
        "titanic[(titanic.Age < 5) & (titanic.Survived == 0)] # Filtramos sólo las personas menores a 5 años que no sobrevivieron"
      ],
      "metadata": {
        "id": "juWksCRuiZd-"
      },
      "execution_count": null,
      "outputs": []
    },
    {
      "cell_type": "code",
      "source": [
        "titanic[titanic.Name.str.contains(\"Rose\")] # Con el método pd.Series.str.contains() podemos filtrar una columna de texto"
      ],
      "metadata": {
        "id": "VpirUzMFicno"
      },
      "execution_count": null,
      "outputs": []
    },
    {
      "cell_type": "markdown",
      "source": [
        "Con el método `pd.DataFrame.groupby()` podemos agrupar los datos por los valores de una columna específica. Y con el método `pd.core.groupby.DataFrameGroupBy.agg()` podemos agregar los datos de cada grupo con un método específico."
      ],
      "metadata": {
        "id": "v0TdH0HmighA"
      }
    },
    {
      "cell_type": "code",
      "source": [
        "grouped_titanic = titanic[[\"Pclass\",\"Fare\"]].groupby(by = \"Pclass\") # Agrupamos los datos por la clase del pasajero\n",
        "grouped_titanic.agg(\"mean\") # Agregamos los datos utilizando el promedio"
      ],
      "metadata": {
        "id": "7ZbYbZ4uij81"
      },
      "execution_count": null,
      "outputs": []
    },
    {
      "cell_type": "markdown",
      "source": [
        "# Cuestionario\n",
        "\n",
        "1. ¿Cuáles son los atributos del archivo TITANIC?\n",
        "\n",
        "2. Despliega una transacción o registro al azar del archivo TITANIC.\n",
        "\n",
        "3. ¿Cuántos datos categóricos ordinales hay en Pclass?\n",
        "\n",
        "4. ¿Cuántos valores únicos tiene la variable categórica nominal Sex?\n",
        "\n",
        "5. ¿Cuántos valores únicos tiene la variable categórica Embarked?\n",
        "\n",
        "6. ¿Cuál es el promedio de la variable numérica continua Age?\n",
        "\n",
        "7. ¿Cuál es la desviación estandar de la variable numérica continua Fare?\n",
        "\n",
        "8. ¿Qué tipo de datos es la variable PassangerId?\n",
        "\n",
        "\n",
        "\n",
        "\n",
        "\n",
        "\n"
      ],
      "metadata": {
        "id": "qQ7ighSzjQWY"
      }
    }
  ]
}