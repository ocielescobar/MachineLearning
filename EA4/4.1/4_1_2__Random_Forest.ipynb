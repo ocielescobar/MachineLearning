{
  "nbformat": 4,
  "nbformat_minor": 0,
  "metadata": {
    "kernelspec": {
      "display_name": "Python 3",
      "language": "python",
      "name": "python3"
    },
    "language_info": {
      "codemirror_mode": {
        "name": "ipython",
        "version": 3
      },
      "file_extension": ".py",
      "mimetype": "text/x-python",
      "name": "python",
      "nbconvert_exporter": "python",
      "pygments_lexer": "ipython3",
      "version": "3.6.7"
    },
    "colab": {
      "provenance": []
    }
  },
  "cells": [
    {
      "cell_type": "markdown",
      "source": [
        "<img src='https://upload.wikimedia.org/wikipedia/commons/thumb/a/aa/Logo_DuocUC.svg/2560px-Logo_DuocUC.svg.png' width=50%, height=20%>"
      ],
      "metadata": {
        "id": "bkdpTgXp8oTC"
      }
    },
    {
      "cell_type": "markdown",
      "metadata": {
        "id": "0ubTygGM9S0L"
      },
      "source": [
        "# INTRODUCCION\n",
        "\n",
        "Para desarrollar este laboratorio, usaremos el set de datos Credit Card Fraut Detection de la web de Kaggle. Son 66 MB que al descomprimir ocuparán 150MB. Usaremos el archivo creditcard.csv. Este dataset consta de 285.000 filas con 31 columnas (features). Como la información es privada, no sabemos realmente que significan los features y están nombradas como V1, V2, V3, etc. excepto por las columnas Time y Amount (el importe de la transacción). Y nuestras clases son 0 y 1 correspondiendo con “transacción Normal” ó “Hubo Fraude”.\n",
        "\n",
        "En este ejercicio compararemos una Regresión Logística contra Random Forrest.\n",
        "\n",
        "NOTA : dado el tamaño del dataset, el proceso de carga puede ser lento."
      ]
    },
    {
      "cell_type": "markdown",
      "metadata": {
        "id": "5RhC7miV9S0V"
      },
      "source": [
        "## Importar librerías"
      ]
    },
    {
      "cell_type": "code",
      "metadata": {
        "ExecuteTime": {
          "end_time": "2019-06-10T22:03:27.419272Z",
          "start_time": "2019-06-10T22:03:11.727446Z"
        },
        "id": "TgQg2tDF9S08"
      },
      "source": [
        "import pandas as pd\n",
        "import numpy as np\n",
        "import matplotlib.pyplot as plt\n",
        "import seaborn as sns\n",
        "\n",
        "from sklearn.metrics import confusion_matrix\n",
        "from sklearn.metrics import classification_report\n",
        "from sklearn.model_selection import train_test_split\n",
        "from sklearn.linear_model import LogisticRegression\n",
        "from sklearn.decomposition import PCA\n",
        "from sklearn.tree import DecisionTreeClassifier\n",
        "\n",
        "from pylab import rcParams\n",
        "\n",
        "from imblearn.under_sampling import NearMiss\n",
        "from imblearn.over_sampling import RandomOverSampler\n",
        "from imblearn.combine import SMOTETomek\n",
        "from imblearn.ensemble import BalancedBaggingClassifier\n",
        "\n",
        "from collections import Counter\n",
        "\n",
        "#set up graphic style in this case I am using the color scheme from xkcd.com\n",
        "rcParams['figure.figsize'] = 14, 8.7 # Golden Mean\n",
        "LABELS = [\"Normal\",\"Fraud\"]\n",
        "#col_list = [\"cerulean\",\"scarlet\"]# https://xkcd.com/color/rgb/\n",
        "#sns.set(style='white', font_scale=1.75, palette=sns.xkcd_palette(col_list))\n",
        "\n",
        "%matplotlib inline"
      ],
      "execution_count": null,
      "outputs": []
    },
    {
      "cell_type": "markdown",
      "metadata": {
        "id": "U6gMLavg9S1B"
      },
      "source": [
        "## Cargamos Datos\n",
        "\n",
        "En este caso subiremos podrás ubicar el archivo comprimido en la dirección indicada. Debes dejarlo local para leerlo ejecutando lo siguiente:"
      ]
    },
    {
      "cell_type": "code",
      "metadata": {
        "ExecuteTime": {
          "end_time": "2019-06-10T22:03:31.407634Z",
          "start_time": "2019-06-10T22:03:27.423198Z"
        },
        "id": "3I-EXu3e9S1D"
      },
      "source": [
        "# Descargar desde https://www.kaggle.com/mlg-ulb/creditcardfraud/data\n",
        "\n",
        "from google.colab import files\n",
        "uploaded = files.upload()\n",
        "for fn in uploaded.keys():\n",
        "    name=fn\n",
        "df = pd.read_csv(name, sep=\",\")\n",
        "#df = pd.read_csv(\"creditcard.csv\")\n",
        "df.head(n=5) "
      ],
      "execution_count": null,
      "outputs": []
    },
    {
      "cell_type": "code",
      "metadata": {
        "ExecuteTime": {
          "end_time": "2019-06-10T22:03:41.130420Z",
          "start_time": "2019-06-10T22:03:41.124669Z"
        },
        "colab": {
          "base_uri": "https://localhost:8080/"
        },
        "id": "qTmaK-Dk9S1F",
        "outputId": "0704bca8-c329-4c94-ff5e-8630cbd070e8"
      },
      "source": [
        "df.shape"
      ],
      "execution_count": null,
      "outputs": [
        {
          "output_type": "execute_result",
          "data": {
            "text/plain": [
              "(284807, 31)"
            ]
          },
          "metadata": {
            "tags": []
          },
          "execution_count": 3
        }
      ]
    },
    {
      "cell_type": "markdown",
      "metadata": {
        "id": "IA9vfGvv9S1G"
      },
      "source": [
        "## Vemos Desbalanceo"
      ]
    },
    {
      "cell_type": "markdown",
      "metadata": {
        "id": "vddSjqnoMJmQ"
      },
      "source": [
        "**Revisa cuantas observaciones corresponden a cada clase.**"
      ]
    },
    {
      "cell_type": "code",
      "metadata": {
        "ExecuteTime": {
          "end_time": "2019-06-10T22:04:01.076121Z",
          "start_time": "2019-06-10T22:04:01.062081Z"
        },
        "id": "r7VJcEB49S1H"
      },
      "source": [
        "pd.value_counts(df['Class'], sort = True) #class comparison 0=Normal 1=Fraud"
      ],
      "execution_count": null,
      "outputs": []
    },
    {
      "cell_type": "code",
      "metadata": {
        "ExecuteTime": {
          "end_time": "2019-06-10T22:04:35.859822Z",
          "start_time": "2019-06-10T22:04:35.771943Z"
        },
        "id": "MNiWM5J99S1J"
      },
      "source": [
        "normal_df = df[df.Class == 0] #registros normales\n",
        "fraud_df = df[df.Class == 1] #casos de fraude"
      ],
      "execution_count": null,
      "outputs": []
    },
    {
      "cell_type": "markdown",
      "metadata": {
        "id": "81oWKET19S1K"
      },
      "source": [
        "## Creamos Dataset"
      ]
    },
    {
      "cell_type": "code",
      "metadata": {
        "ExecuteTime": {
          "end_time": "2019-06-10T22:05:06.841086Z",
          "start_time": "2019-06-10T22:05:06.636496Z"
        },
        "id": "q74fU5m09S1L"
      },
      "source": [
        "y = df['Class']\n",
        "X = df.drop('Class', axis=1)\n",
        "X_train, X_test, y_train, y_test = train_test_split(X, y, train_size=0.7)"
      ],
      "execution_count": null,
      "outputs": []
    },
    {
      "cell_type": "code",
      "metadata": {
        "ExecuteTime": {
          "end_time": "2019-06-10T22:05:29.371422Z",
          "start_time": "2019-06-10T22:05:29.366934Z"
        },
        "id": "FqTakAma9S1M"
      },
      "source": [
        "def mostrar_resultados(y_test, pred_y):\n",
        "    conf_matrix = confusion_matrix(y_test, pred_y)\n",
        "    plt.figure(figsize=(8, 8))\n",
        "    sns.heatmap(conf_matrix, xticklabels=LABELS, yticklabels=LABELS, annot=True, fmt=\"d\");\n",
        "    plt.title(\"Confusion matrix\")\n",
        "    plt.ylabel('True class')\n",
        "    plt.xlabel('Predicted class')\n",
        "    plt.show()\n",
        "    print (classification_report(y_test, pred_y))"
      ],
      "execution_count": null,
      "outputs": []
    },
    {
      "cell_type": "markdown",
      "metadata": {
        "id": "zHdvssck9S1N"
      },
      "source": [
        "## Ejecutamos Modelo con LogisticRegresion para poder Comparar"
      ]
    },
    {
      "cell_type": "code",
      "metadata": {
        "ExecuteTime": {
          "end_time": "2019-06-10T22:06:08.148478Z",
          "start_time": "2019-06-10T22:05:48.871946Z"
        },
        "id": "AofXUAEe9S1O"
      },
      "source": [
        "def run_model_balanced(X_train, X_test, y_train, y_test):\n",
        "    clf = LogisticRegression(C=1.0,penalty='l2',random_state=1,solver=\"newton-cg\",class_weight=\"balanced\")\n",
        "    clf.fit(X_train, y_train)\n",
        "    return clf\n",
        "\n",
        "model = run_model_balanced(X_train, X_test, y_train, y_test)"
      ],
      "execution_count": null,
      "outputs": []
    },
    {
      "cell_type": "markdown",
      "metadata": {
        "id": "Buv_VVcL9S1Q"
      },
      "source": [
        "### Veamos como responde en el test set"
      ]
    },
    {
      "cell_type": "code",
      "metadata": {
        "ExecuteTime": {
          "end_time": "2019-06-10T22:06:08.578474Z",
          "start_time": "2019-06-10T22:06:08.151477Z"
        },
        "id": "InbqbdVp9S1R"
      },
      "source": [
        "pred_y = model.predict(X_test)\n",
        "mostrar_resultados(y_test, pred_y)"
      ],
      "execution_count": null,
      "outputs": []
    },
    {
      "cell_type": "markdown",
      "metadata": {
        "id": "1az8v2grMhf-"
      },
      "source": [
        "# **ANALIZAR**\n",
        "\n",
        "¿Cuál es el nivel de exactitud de este modelo?\n",
        "\n",
        "¿Qué otras métricas puedes comentar? ¿Qué dicen?"
      ]
    },
    {
      "cell_type": "markdown",
      "metadata": {
        "id": "YJmQrGGM9S1S"
      },
      "source": [
        "# Probamos con Random Forest"
      ]
    },
    {
      "cell_type": "markdown",
      "metadata": {
        "id": "NXAg9uB59S1T"
      },
      "source": [
        "## ATENCION: Este modelo toma algo más de tiempo en entrenar"
      ]
    },
    {
      "cell_type": "code",
      "metadata": {
        "ExecuteTime": {
          "end_time": "2019-06-10T22:38:18.090801Z",
          "start_time": "2019-06-10T22:37:01.497858Z"
        },
        "id": "3PSoosul9S1U"
      },
      "source": [
        "from sklearn.ensemble import RandomForestClassifier\n",
        "\n",
        "# Crear el modelo con 100 arboles\n",
        "model = RandomForestClassifier(n_estimators=100, \n",
        "                               bootstrap = True,verbose=2,\n",
        "                               max_features = 'sqrt')\n",
        "# entrenar!\n",
        "model.fit(X_train, y_train)"
      ],
      "execution_count": null,
      "outputs": []
    },
    {
      "cell_type": "markdown",
      "metadata": {
        "id": "hBvk96NS9S1W"
      },
      "source": [
        "### Revisemos los resultados"
      ]
    },
    {
      "cell_type": "code",
      "metadata": {
        "ExecuteTime": {
          "end_time": "2019-06-10T22:22:41.766131Z",
          "start_time": "2019-06-10T22:22:40.529577Z"
        },
        "id": "HyYPxAhf9S1W"
      },
      "source": [
        "pred_y = model.predict(X_test)\n",
        "mostrar_resultados(y_test, pred_y)"
      ],
      "execution_count": null,
      "outputs": []
    },
    {
      "cell_type": "markdown",
      "metadata": {
        "id": "G0Iuw45SNajD"
      },
      "source": [
        "# **Analizar**\n",
        "\n",
        "Lee las métricas anteriores, ¿qué puedes comentar de estas?"
      ]
    },
    {
      "cell_type": "markdown",
      "metadata": {
        "id": "6AID21fg9S1Y"
      },
      "source": [
        "# Otro Bosque: Random Forest -más veloz-"
      ]
    },
    {
      "cell_type": "code",
      "metadata": {
        "ExecuteTime": {
          "end_time": "2019-06-10T22:33:52.023322Z",
          "start_time": "2019-06-10T22:33:21.079817Z"
        },
        "id": "sisfXrgB9S1Z"
      },
      "source": [
        "# otro modelo, variando hiperparámetros\n",
        "model = RandomForestClassifier(n_estimators=100, class_weight=\"balanced\",\n",
        "                               max_features = 'sqrt', verbose=2, max_depth=6,\n",
        "                               oob_score=True, random_state=50)\n",
        "# a entrenar\n",
        "model.fit(X_train, y_train)"
      ],
      "execution_count": null,
      "outputs": []
    },
    {
      "cell_type": "markdown",
      "metadata": {
        "id": "YKe5fGzX9S1a"
      },
      "source": [
        "## Veamos la Confusion Matrix con el conjunto de Test"
      ]
    },
    {
      "cell_type": "code",
      "metadata": {
        "ExecuteTime": {
          "end_time": "2019-06-10T22:34:14.432791Z",
          "start_time": "2019-06-10T22:34:13.720456Z"
        },
        "id": "aiXJV1TN9S1b"
      },
      "source": [
        "pred_y = model.predict(X_test)\n",
        "mostrar_resultados(y_test, pred_y)"
      ],
      "execution_count": null,
      "outputs": []
    },
    {
      "cell_type": "markdown",
      "metadata": {
        "id": "cEl373dbN4EJ"
      },
      "source": [
        "# **ANALIZAR**\n",
        "\n",
        "En este modelo, ¿que reflejan las métricas?"
      ]
    },
    {
      "cell_type": "markdown",
      "metadata": {
        "id": "s6XHWENe9S1c"
      },
      "source": [
        "# Comprobamos Resultados\n",
        "\n",
        "## **Investiga**\n",
        "\n",
        "¿Qué significa y para que sirve el \"roc_auc_score\"?"
      ]
    },
    {
      "cell_type": "code",
      "metadata": {
        "ExecuteTime": {
          "end_time": "2019-06-10T22:39:44.407125Z",
          "start_time": "2019-06-10T22:39:44.384718Z"
        },
        "id": "7LGCu8FK9S1d"
      },
      "source": [
        "from sklearn.metrics import roc_auc_score\n",
        "\n",
        "# Calculate roc auc\n",
        "roc_value = roc_auc_score(y_test, pred_y)"
      ],
      "execution_count": null,
      "outputs": []
    },
    {
      "cell_type": "code",
      "metadata": {
        "ExecuteTime": {
          "end_time": "2019-06-10T22:40:00.264424Z",
          "start_time": "2019-06-10T22:40:00.257696Z"
        },
        "colab": {
          "base_uri": "https://localhost:8080/"
        },
        "id": "pZLZoxAu9S1e",
        "outputId": "03a57b02-1564-4f4e-ebec-18950f408ede"
      },
      "source": [
        "print(roc_value)"
      ],
      "execution_count": null,
      "outputs": [
        {
          "output_type": "stream",
          "text": [
            "0.9180763016207248\n"
          ],
          "name": "stdout"
        }
      ]
    },
    {
      "cell_type": "markdown",
      "metadata": {
        "id": "Prpx5fct9S1f"
      },
      "source": [
        "El valor de roc cuanto más cerca de 1, mejor. si fuera 0.5 daría igual que fuesen valores aleatorios y sería un mal modelo"
      ]
    },
    {
      "cell_type": "markdown",
      "metadata": {
        "id": "FALi1_gtOSBz"
      },
      "source": [
        "# **CONCLUSIONES**\n",
        "\n",
        "Reflexiona sobre este ejercicio.\n",
        "\n",
        "¿Qué puedes comentar sobre Random Forrest?\n",
        "\n",
        "Comparte tu análisis con el resto del curso."
      ]
    }
  ]
}